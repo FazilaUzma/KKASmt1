{
  "nbformat": 4,
  "nbformat_minor": 0,
  "metadata": {
    "colab": {
      "provenance": [],
      "authorship_tag": "ABX9TyPnMH8tGMgZo0PWgR8i4smy",
      "include_colab_link": true
    },
    "kernelspec": {
      "name": "python3",
      "display_name": "Python 3"
    },
    "language_info": {
      "name": "python"
    }
  },
  "cells": [
    {
      "cell_type": "markdown",
      "metadata": {
        "id": "view-in-github",
        "colab_type": "text"
      },
      "source": [
        "<a href=\"https://colab.research.google.com/github/FazilaUzma/KKASmt1/blob/main/1_fungsi_print_fazila_uzma_XI_I.ipynb\" target=\"_parent\"><img src=\"https://colab.research.google.com/assets/colab-badge.svg\" alt=\"Open In Colab\"/></a>"
      ]
    },
    {
      "cell_type": "code",
      "execution_count": null,
      "metadata": {
        "colab": {
          "base_uri": "https://localhost:8080/"
        },
        "id": "og_bvfd-FZ14",
        "outputId": "16ec7ece-5461-4f65-8df3-3447f1e6d366"
      },
      "outputs": [
        {
          "output_type": "stream",
          "name": "stdout",
          "text": [
            "Halo dunia\n"
          ]
        }
      ],
      "source": [
        "print(\"Halo dunia\")"
      ]
    },
    {
      "cell_type": "code",
      "source": [
        "print(\"Halo dunia\")"
      ],
      "metadata": {
        "id": "rS0_ThCgGDlu",
        "colab": {
          "base_uri": "https://localhost:8080/"
        },
        "outputId": "d38978c9-c642-4e1e-8020-3b8901a3af2b"
      },
      "execution_count": null,
      "outputs": [
        {
          "output_type": "stream",
          "name": "stdout",
          "text": [
            "Halo dunia\n"
          ]
        }
      ]
    },
    {
      "cell_type": "code",
      "source": [
        "print(\"Mie ayam\")"
      ],
      "metadata": {
        "colab": {
          "base_uri": "https://localhost:8080/"
        },
        "id": "BynT6iYCGPno",
        "outputId": "7a6b0805-9ff2-4f9c-ba03-5d05cc0cb4df"
      },
      "execution_count": null,
      "outputs": [
        {
          "output_type": "stream",
          "name": "stdout",
          "text": [
            "Mie ayam\n"
          ]
        }
      ]
    },
    {
      "cell_type": "code",
      "source": [
        "print(\"Selamat datang di python\")"
      ],
      "metadata": {
        "colab": {
          "base_uri": "https://localhost:8080/"
        },
        "id": "PbOGEo9QGex3",
        "outputId": "084e211a-ec18-45bb-b40f-fe62633c0799"
      },
      "execution_count": null,
      "outputs": [
        {
          "output_type": "stream",
          "name": "stdout",
          "text": [
            "Selamat datang di python\n"
          ]
        }
      ]
    },
    {
      "cell_type": "markdown",
      "source": [
        "# Variabel"
      ],
      "metadata": {
        "id": "v41sKcvlILdv"
      }
    },
    {
      "cell_type": "code",
      "source": [
        "BB = 50\n",
        "print(BB)"
      ],
      "metadata": {
        "colab": {
          "base_uri": "https://localhost:8080/"
        },
        "id": "nO0xx96OIbBD",
        "outputId": "5c915ec4-5730-4cc0-9cf3-3fa8631c8c08"
      },
      "execution_count": null,
      "outputs": [
        {
          "output_type": "stream",
          "name": "stdout",
          "text": [
            "50\n"
          ]
        }
      ]
    },
    {
      "cell_type": "code",
      "source": [
        "umur = 25\n",
        "print(umur)"
      ],
      "metadata": {
        "colab": {
          "base_uri": "https://localhost:8080/"
        },
        "id": "m-NUu7TUJy9D",
        "outputId": "e653201d-07aa-47cf-8846-cdffe97b586b"
      },
      "execution_count": null,
      "outputs": [
        {
          "output_type": "stream",
          "name": "stdout",
          "text": [
            "25\n"
          ]
        }
      ]
    },
    {
      "cell_type": "code",
      "source": [
        "harga_telur = 26000\n",
        "print(\"Harga telur per 1 kg adalah\" + str(harga_telur))"
      ],
      "metadata": {
        "colab": {
          "base_uri": "https://localhost:8080/"
        },
        "id": "Cu8JckhfEnLf",
        "outputId": "7f177c2e-47be-4aa3-b3cd-cb1eca8e5896"
      },
      "execution_count": null,
      "outputs": [
        {
          "output_type": "stream",
          "name": "stdout",
          "text": [
            "Harga telur per 1 kg adalah26000\n"
          ]
        }
      ]
    },
    {
      "cell_type": "markdown",
      "source": [
        "Menampilkan Variabel dan Teks Bebas"
      ],
      "metadata": {
        "id": "y65wD7rpDvgj"
      }
    },
    {
      "cell_type": "code",
      "source": [
        "print(\"Nama: Fazila Uzma Abdullah\")\n",
        "print(\"Kelas: XI.1\")\n",
        "print(\"Nomor absen: 14\")"
      ],
      "metadata": {
        "colab": {
          "base_uri": "https://localhost:8080/"
        },
        "id": "5CqXsS1PJr8t",
        "outputId": "55a13281-d7eb-4b4a-8f87-63d13a767a7c"
      },
      "execution_count": null,
      "outputs": [
        {
          "output_type": "stream",
          "name": "stdout",
          "text": [
            "Nama: Fazila Uzma Abdullah\n",
            "Kelas: XI.1\n",
            "Nomor absen: 14\n"
          ]
        }
      ]
    },
    {
      "cell_type": "code",
      "source": [
        "print(\"Nama\\t\\t: Fazila Uzma Abdullah\\nkelas\\t\\t: XI.1\\nNomor absen\\t: 14\")"
      ],
      "metadata": {
        "colab": {
          "base_uri": "https://localhost:8080/"
        },
        "id": "Xb7a4HGqLtt5",
        "outputId": "b15f7c94-7bd2-4caa-cf64-a04821f8ef52"
      },
      "execution_count": null,
      "outputs": [
        {
          "output_type": "stream",
          "name": "stdout",
          "text": [
            "Nama\t\t: Fazila Uzma Abdullah\n",
            "kelas\t\t: XI.1\n",
            "Nomor absen\t: 14\n"
          ]
        }
      ]
    },
    {
      "cell_type": "code",
      "source": [
        "print(\"\"\"Nama: Fazila Uzma Abdullah\n",
        "kelas: XI.1\n",
        "Nomor absen: 14\"\"\")"
      ],
      "metadata": {
        "colab": {
          "base_uri": "https://localhost:8080/"
        },
        "id": "MDAi0q5yNGX1",
        "outputId": "b90c22b5-9d7e-466b-b276-e81f3744bc07"
      },
      "execution_count": null,
      "outputs": [
        {
          "output_type": "stream",
          "name": "stdout",
          "text": [
            "Nama: Fazila Uzma Abdullah \n",
            "kelas: XI.1\n",
            "Nomor absen: 14\n"
          ]
        }
      ]
    },
    {
      "cell_type": "markdown",
      "source": [
        "Latihan Soal\n",
        "1. Tampilkan teks bebas: Hari ini saya bahagia belajar bahasa python\n",
        "2. Tampilkan nilai variabel: mata_pelajaran_favorit Kode dan Kecerdasan Buatan\n",
        "3. Tampilkan nilai variabel: nilai kka = 100\n",
        "4. Tampilkan teks bebas dan nilai variabel dengan tiga metode (f string, \"+\", \",\"): \"Nilai KKA saya adalah (nilai_kka) loh!\""
      ],
      "metadata": {
        "id": "TV5iD6P5KY9g"
      }
    },
    {
      "cell_type": "code",
      "source": [
        "print(\"Hari ini saya bahagia belajar bahasa python\")"
      ],
      "metadata": {
        "colab": {
          "base_uri": "https://localhost:8080/"
        },
        "id": "flcY_XIceHVM",
        "outputId": "b9e898da-67cb-42c5-eb6b-035be9bf4677"
      },
      "execution_count": null,
      "outputs": [
        {
          "output_type": "stream",
          "name": "stdout",
          "text": [
            "Hari ini saya bahagia belajar bahasa python\n"
          ]
        }
      ]
    },
    {
      "cell_type": "code",
      "source": [
        "mata_pelajaran_favorit = \"Bahasa Inggris\"\n",
        "print(mata_pelajaran_favorit)"
      ],
      "metadata": {
        "colab": {
          "base_uri": "https://localhost:8080/"
        },
        "id": "m0-WfBpnk-il",
        "outputId": "34b98430-cacb-4524-cf6d-2058f467a37d"
      },
      "execution_count": null,
      "outputs": [
        {
          "output_type": "stream",
          "name": "stdout",
          "text": [
            "Bahasa Inggris\n"
          ]
        }
      ]
    },
    {
      "cell_type": "code",
      "source": [
        "nilai_kka = 100\n",
        "print(nilai_kka)"
      ],
      "metadata": {
        "colab": {
          "base_uri": "https://localhost:8080/"
        },
        "id": "zcHvoR3KlIb8",
        "outputId": "107aaea6-bec9-4ff7-f343-3105d23b08f8"
      },
      "execution_count": null,
      "outputs": [
        {
          "output_type": "stream",
          "name": "stdout",
          "text": [
            "100\n"
          ]
        }
      ]
    },
    {
      "cell_type": "code",
      "source": [
        "nilai_kka = 95\n",
        "print(f\"nilai kka saya adalah {nilai_kka} loh!\")"
      ],
      "metadata": {
        "colab": {
          "base_uri": "https://localhost:8080/"
        },
        "id": "8XmPKSZQlmtW",
        "outputId": "e9ab735d-8dda-4b7f-deb0-3b83528c42c1"
      },
      "execution_count": null,
      "outputs": [
        {
          "output_type": "stream",
          "name": "stdout",
          "text": [
            "nilai kka saya adalah 95 loh!\n"
          ]
        }
      ]
    },
    {
      "cell_type": "code",
      "source": [
        "nilai_kka = 95\n",
        "print(\"nilai kka saya adalah\", nilai_kka, \"loh!\")"
      ],
      "metadata": {
        "colab": {
          "base_uri": "https://localhost:8080/"
        },
        "id": "RtW7LlGLl8II",
        "outputId": "41972d5d-dfe7-47e3-8ec6-bd06b045f41f"
      },
      "execution_count": null,
      "outputs": [
        {
          "output_type": "stream",
          "name": "stdout",
          "text": [
            "nilai kka saya adalah 95 loh!\n"
          ]
        }
      ]
    },
    {
      "cell_type": "code",
      "source": [
        "nilai_kka = 95\n",
        "print(\"nilai kka saya adalah \" + str(nilai_kka) + \" loh!\")"
      ],
      "metadata": {
        "colab": {
          "base_uri": "https://localhost:8080/"
        },
        "id": "w0T4dFimmFVQ",
        "outputId": "d2dc8119-7dd8-4088-d4cd-f48611053272"
      },
      "execution_count": null,
      "outputs": [
        {
          "output_type": "stream",
          "name": "stdout",
          "text": [
            "nilai kka saya adalah 95 loh!\n"
          ]
        }
      ]
    },
    {
      "cell_type": "markdown",
      "source": [
        "Escape Character"
      ],
      "metadata": {
        "id": "AflLHMYgCSPM"
      }
    },
    {
      "cell_type": "code",
      "source": [
        "print('Ja\\'far Shodiq')"
      ],
      "metadata": {
        "colab": {
          "base_uri": "https://localhost:8080/"
        },
        "id": "6sOb25_cCXtO",
        "outputId": "f4578bb9-cd39-4cd3-8db9-b67a684c540d"
      },
      "execution_count": null,
      "outputs": [
        {
          "output_type": "stream",
          "name": "stdout",
          "text": [
            "Ja'far Shodiq\n"
          ]
        }
      ]
    },
    {
      "cell_type": "code",
      "source": [
        "print(\"Ja'far Shodiq\")"
      ],
      "metadata": {
        "colab": {
          "base_uri": "https://localhost:8080/"
        },
        "id": "Mjp246fFCsi1",
        "outputId": "0d8b7ca3-ad07-4c15-f3c8-8a0a017ea794"
      },
      "execution_count": null,
      "outputs": [
        {
          "output_type": "stream",
          "name": "stdout",
          "text": [
            "Ja'far Shodiq\n"
          ]
        }
      ]
    },
    {
      "cell_type": "code",
      "source": [
        "print(\"Bu Shinta berkata, \\\"Semua harus menyimak pelajaran,\\\"\")"
      ],
      "metadata": {
        "colab": {
          "base_uri": "https://localhost:8080/"
        },
        "id": "WTTDhYq-C43u",
        "outputId": "2a5bc620-2e92-4adf-bcb1-452cc7799c4e"
      },
      "execution_count": null,
      "outputs": [
        {
          "output_type": "stream",
          "name": "stdout",
          "text": [
            "Bu Shinta berkata, \"Semua harus menyimak pelajaran,\"\n"
          ]
        }
      ]
    },
    {
      "cell_type": "code",
      "source": [
        "print(\"Lokasi file video karnaval ada di D:\\\\Karnaval 2025\\\\mp4\")"
      ],
      "metadata": {
        "colab": {
          "base_uri": "https://localhost:8080/"
        },
        "id": "6u1emJu9DOwq",
        "outputId": "cd27e04d-86d6-4f7b-8f5d-2137682adf63"
      },
      "execution_count": null,
      "outputs": [
        {
          "output_type": "stream",
          "name": "stdout",
          "text": [
            "Lokasi file video karnaval ada di D:\\Karnaval 2025\\mp4\n"
          ]
        }
      ]
    },
    {
      "cell_type": "markdown",
      "source": [
        "Parameter Fungsi Print"
      ],
      "metadata": {
        "id": "Ugy-zAoRG5KU"
      }
    },
    {
      "cell_type": "code",
      "source": [
        "Tahun = 2009\n",
        "Bulan = \"Januari\"\n",
        "Tanggal = 10\n",
        "\n",
        "print(Tanggal, end=\" \")\n",
        "print(Bulan, end=\" \")\n",
        "print(Tahun)"
      ],
      "metadata": {
        "colab": {
          "base_uri": "https://localhost:8080/"
        },
        "id": "8JfK051zHGid",
        "outputId": "7e97da2a-2346-40f5-9655-b6e6535f68d3"
      },
      "execution_count": null,
      "outputs": [
        {
          "output_type": "stream",
          "name": "stdout",
          "text": [
            "10 Januari 2009\n"
          ]
        }
      ]
    },
    {
      "cell_type": "code",
      "source": [
        "Tahun = 2009\n",
        "Bulan = \"Januari\"\n",
        "Tanggal = 10\n",
        "\n",
        "print(Tanggal, Bulan, Tahun, sep=\"/\")"
      ],
      "metadata": {
        "colab": {
          "base_uri": "https://localhost:8080/"
        },
        "id": "xFaowg2LIKfo",
        "outputId": "304f18bd-6a8d-42ec-968d-62ccaa0fa7ab"
      },
      "execution_count": null,
      "outputs": [
        {
          "output_type": "stream",
          "name": "stdout",
          "text": [
            "10/Januari/2009\n"
          ]
        }
      ]
    },
    {
      "cell_type": "markdown",
      "source": [
        "Latihan:\n",
        "Tanggal-Bulan-Tahun"
      ],
      "metadata": {
        "id": "AWNhODQKJGIb"
      }
    },
    {
      "cell_type": "code",
      "source": [
        "Tahun = 2009\n",
        "Bulan = \"Januari\"\n",
        "Tanggal = 10\n",
        "\n",
        "print(Tanggal, Bulan, Tahun, sep=\"-\")"
      ],
      "metadata": {
        "colab": {
          "base_uri": "https://localhost:8080/"
        },
        "id": "x_KEzFjDJNe6",
        "outputId": "60479adf-be1d-4348-df81-33fb77a3aa16"
      },
      "execution_count": null,
      "outputs": [
        {
          "output_type": "stream",
          "name": "stdout",
          "text": [
            "10-Januari-2009\n"
          ]
        }
      ]
    },
    {
      "cell_type": "code",
      "source": [
        "nama_depan = \"Fazila\"\n",
        "nama_belakang = \"Uzma Abdullah\"\n",
        "\n",
        "print(nama_depan, end=\" \")\n",
        "print(nama_belakang)"
      ],
      "metadata": {
        "colab": {
          "base_uri": "https://localhost:8080/"
        },
        "id": "3AQp2xhWJoOX",
        "outputId": "407dd46e-f13f-459c-ac20-be56b8a112fd"
      },
      "execution_count": null,
      "outputs": [
        {
          "output_type": "stream",
          "name": "stdout",
          "text": [
            "Fazila Uzma Abdullah\n"
          ]
        }
      ]
    },
    {
      "cell_type": "markdown",
      "source": [
        "Latihan Soal Jadwal Pelajaran Mingguan"
      ],
      "metadata": {
        "id": "54CuuFE0UsNm"
      }
    },
    {
      "cell_type": "code",
      "source": [
        "print(\"Bu Shinta berkata, \\\"berikut adalah judul pelajaran hari senin selasa rabu \" \"silakan disimpan di laptop masing-masing di folder local disk \" \"D:\\\\Jadwal Pelajaran\\\\Kelas XI Semester I\\\"\")\n",
        "\n",
        "\n",
        "print(\"Jadwal Pelajaran Mingguan\")\n",
        "print(\"=============================\")\n",
        "\n",
        "print(\"Jam\\tSenin\\t\\tSelasa\\t\\tRabu\")\n",
        "\n",
        "print(\"Jam 1\\tMatematika\\tBahasa\\t\\tInformatika\")\n",
        "print(\"Jam 2\\tBahasa Ing.\\tSejarah\\t\\tMa\\'rifatullah\")\n",
        "print(\"Jam 3\\tInformatika\\tOlahraga\\tBiologi\")"
      ],
      "metadata": {
        "id": "Ixx3xcecViF5",
        "outputId": "6661d663-43c7-429c-a2fd-113dd04a4c56",
        "colab": {
          "base_uri": "https://localhost:8080/"
        }
      },
      "execution_count": null,
      "outputs": [
        {
          "output_type": "stream",
          "name": "stdout",
          "text": [
            "Bu Shinta berkata, \"berikut adalah judul pelajaran hari senin selasa rabu silakan disimpan di laptop masing-masing di folder local disk D:\\Jadwal Pelajaran\\Kelas XI Semester I\"\n",
            "Jadwal Pelajaran Mingguan\n",
            "=============================\n",
            "Jam\tSenin\t\tSelasa\t\tRabu\n",
            "Jam 1\tMatematika\tBahasa\t\tInformatika\n",
            "Jam 2\tBahasa Ing.\tSejarah\t\tMa'rifatullah\n",
            "Jam 3\tInformatika\tOlahraga\tBiologi\n"
          ]
        }
      ]
    },
    {
      "cell_type": "markdown",
      "source": [
        "Parameter fungsi"
      ],
      "metadata": {
        "id": "U2EPAZSLF_X1"
      }
    },
    {
      "cell_type": "code",
      "source": [
        "nama_siswa_1 = \"Naufal\"\n",
        "nama_siswa_2 = \"Favian\"\n",
        "nama_siswa_3 = \"Humaira\"\n",
        "nama_siswa_4 = \"Favian\"\n",
        "\n",
        "print(nama_siswa_1, nama_siswa_2, nama_siswa_3, nama_siswa_4, sep=\"~\")"
      ],
      "metadata": {
        "colab": {
          "base_uri": "https://localhost:8080/"
        },
        "id": "D0kC9YhgGDzW",
        "outputId": "36e3b3d1-7dfa-4310-a940-03cc1e41f05d"
      },
      "execution_count": 2,
      "outputs": [
        {
          "output_type": "stream",
          "name": "stdout",
          "text": [
            "Naufal~Favian~Humaira~Favian\n"
          ]
        }
      ]
    },
    {
      "cell_type": "code",
      "source": [
        "nama_siswa_1 = \"Naufal\"\n",
        "nama_siswa_2 = \"Favian\"\n",
        "nama_siswa_3 = \"Humaira\"\n",
        "nama_siswa_4 = \"Favian\"\n",
        "\n",
        "print(nama_siswa_1, end=\"~\")\n",
        "print(nama_siswa_2)\n",
        "print(nama_siswa_3, end=\"~\")\n",
        "print(nama_siswa_4)"
      ],
      "metadata": {
        "colab": {
          "base_uri": "https://localhost:8080/"
        },
        "id": "yNCZRk72Hchj",
        "outputId": "8198f2a2-1da4-441e-9775-4c4f88ba3518"
      },
      "execution_count": 3,
      "outputs": [
        {
          "output_type": "stream",
          "name": "stdout",
          "text": [
            "Naufal~Favian\n",
            "Humaira~Favian\n"
          ]
        }
      ]
    }
  ]
}